{
 "cells": [
  {
   "cell_type": "markdown",
   "id": "4aa8f5c1-ff59-4a10-bfb4-77a6b80b5751",
   "metadata": {},
   "source": [
    "ASSIGNMENT OF FEB 2"
   ]
  },
  {
   "cell_type": "markdown",
   "id": "ddb47d5f-0975-47c5-a3f1-df428e202fdc",
   "metadata": {},
   "source": [
    "Q1. EXPLAIN WITH AN EXAMPLE EACH WHEN TO USE A FOR LOOP AND A WHILE LOOP"
   ]
  },
  {
   "cell_type": "code",
   "execution_count": 11,
   "id": "f9b2e28f-e96f-4894-b14a-289af2d0f787",
   "metadata": {},
   "outputs": [
    {
     "name": "stdout",
     "output_type": "stream",
     "text": [
      "12\n",
      "43\n",
      "5\n",
      "6\n",
      "7\n"
     ]
    }
   ],
   "source": [
    "#ANSWER\n",
    "i = [12,43,5,6,7]\n",
    "for l in i:\n",
    "    print(l)"
   ]
  },
  {
   "cell_type": "code",
   "execution_count": 12,
   "id": "b9b0a7c3-7e0c-46ec-8cc9-c26f7726f054",
   "metadata": {},
   "outputs": [
    {
     "name": "stdout",
     "output_type": "stream",
     "text": [
      "0\n",
      "1\n",
      "2\n",
      "3\n",
      "4\n"
     ]
    }
   ],
   "source": [
    "#WHILE LOOP\n",
    "i = 0\n",
    "while i < 5:\n",
    "    print(i)\n",
    "    i = i + 1"
   ]
  },
  {
   "cell_type": "markdown",
   "id": "341faeb7-a2e7-4338-afd8-c451402f7f99",
   "metadata": {},
   "source": [
    "Q2. Write a python program to print the sum and product of the first 10 natural numbers using for\n",
    "and while loop."
   ]
  },
  {
   "cell_type": "code",
   "execution_count": 15,
   "id": "582b000b-282f-4228-95a5-c9d32aaafa1c",
   "metadata": {},
   "outputs": [
    {
     "name": "stdout",
     "output_type": "stream",
     "text": [
      "55\n"
     ]
    }
   ],
   "source": [
    "#ANSWER\n",
    "#Using for loop to find sum of first 10 natural numbers\n",
    "sum = 0\n",
    "for i in range(1,11):\n",
    "    sum = sum + i\n",
    "    i = i + 1\n",
    "print(sum)"
   ]
  },
  {
   "cell_type": "code",
   "execution_count": 16,
   "id": "22f83d7b-fb22-406e-b017-c7704cab65ee",
   "metadata": {},
   "outputs": [
    {
     "name": "stdout",
     "output_type": "stream",
     "text": [
      "3628800\n"
     ]
    }
   ],
   "source": [
    "#Using for loop to find product of first 10 natural numbers\n",
    "product = 1\n",
    "for i in range(1,11):\n",
    "    product = product * i\n",
    "    i = i + 1\n",
    "print(product)"
   ]
  },
  {
   "cell_type": "code",
   "execution_count": 18,
   "id": "286591dc-aaef-4f78-b7ef-cce335e0af21",
   "metadata": {},
   "outputs": [
    {
     "name": "stdout",
     "output_type": "stream",
     "text": [
      "55\n"
     ]
    }
   ],
   "source": [
    "#Using while loop to find sum of first 10 natural numbers\n",
    "i = 1\n",
    "sum = 0\n",
    "while i <= 10:\n",
    "    sum = sum + i\n",
    "    i = i + 1\n",
    "print(sum)"
   ]
  },
  {
   "cell_type": "code",
   "execution_count": 19,
   "id": "fd0d4e5f-e098-4861-854f-0aaa03d530a3",
   "metadata": {},
   "outputs": [
    {
     "name": "stdout",
     "output_type": "stream",
     "text": [
      "3628800\n"
     ]
    }
   ],
   "source": [
    "#Using while loop to find product of first 10 natural numbers\n",
    "i = 1\n",
    "product = 1\n",
    "while i <= 10:\n",
    "    product = product * i\n",
    "    i = i + 1\n",
    "print(product)"
   ]
  },
  {
   "cell_type": "markdown",
   "id": "267c2a5b-7413-48f2-a410-b5c6be43fef4",
   "metadata": {},
   "source": [
    "Q3. Create a python program to compute the electricity bill for a household.\n",
    "The per-unit charges in rupees are as follows: For the first 100 units, the user will be charged Rs. 4.5 per\n",
    "unit, for the next 100 units, the user will be charged Rs. 6 per unit, and for the next 100 units, the user will\n",
    "be charged Rs. 10 per unit, After 300 units and above the user will be charged Rs. 20 per unit."
   ]
  },
  {
   "cell_type": "code",
   "execution_count": 3,
   "id": "98577913-b7a4-4c6c-8f9f-3b9290132ec0",
   "metadata": {},
   "outputs": [
    {
     "name": "stdin",
     "output_type": "stream",
     "text": [
      "Enter the units of your household electricity bills for a month 310\n"
     ]
    },
    {
     "name": "stdout",
     "output_type": "stream",
     "text": [
      "Charge of your electricity bill is  2250.0\n"
     ]
    }
   ],
   "source": [
    "#ANSWER\n",
    "unit = int(input(\"Enter the units of your household electricity bills for a month\"))\n",
    "if unit <= 100 :\n",
    "    charge = 4.5 * unit\n",
    "    print(\"Charge of your electicity bill is \", charge)\n",
    "if unit > 100 and unit <= 200 :\n",
    "    charge = 4.5 * 100 + (unit - 100) * 6\n",
    "    print(\"Charge of your electricity bill is \", charge)\n",
    "if unit > 200 and unit <= 300 :\n",
    "    charge = 4.5 * 100 + 5 * 100 + (unit - 200) * 10\n",
    "    print(\"Charge of your electricity bill is\", charge)\n",
    "else : \n",
    "    charge = 4.5 * 100 + 5 * 100 + 10 * 100 + (unit - 295) * 20\n",
    "    print(\"Charge of your electricity bill is \", charge)"
   ]
  },
  {
   "cell_type": "markdown",
   "id": "75c01d75-8791-41cd-9d75-82b4b1d5fd9b",
   "metadata": {},
   "source": [
    "Q4. Create a list of numbers from 1 to 100. Use for loop and while loop to calculate the cube of each\n",
    "number and if the cube of that number is divisible by 4 or 5 then append that number in a list and print\n",
    "that list."
   ]
  },
  {
   "cell_type": "code",
   "execution_count": 8,
   "id": "ac7f3aa1-6180-40bc-b621-88538fc84005",
   "metadata": {},
   "outputs": [
    {
     "name": "stdout",
     "output_type": "stream",
     "text": [
      "[8, 64, 125, 216, 512, 1000, 1728, 2744, 3375, 4096, 5832, 8000, 10648, 13824, 15625, 17576, 21952, 27000, 32768, 39304, 42875, 46656, 54872, 64000, 74088, 85184, 91125, 97336, 110592, 125000, 140608, 157464, 166375, 175616, 195112, 216000, 238328, 262144, 274625, 287496, 314432, 343000, 373248, 405224, 421875, 438976, 474552, 512000, 551368, 592704, 614125, 636056, 681472, 729000, 778688, 830584, 857375, 884736, 941192, 1000000]\n"
     ]
    }
   ],
   "source": [
    "#ANSWER\n",
    "l = []\n",
    "i = 1\n",
    "while i <= 100:\n",
    "    l.append(i)\n",
    "    i=i+1\n",
    "l1 = []\n",
    "for m in l:\n",
    "    l1.append(m**3)\n",
    "    m = m + 1\n",
    "l2 = []\n",
    "for n in l1:\n",
    "    if n % 4 == 0 or n % 5 == 0:\n",
    "        l2.append(n)\n",
    "print(l2)"
   ]
  },
  {
   "cell_type": "markdown",
   "id": "30a99037-6d88-45ea-91ca-07869cf28c04",
   "metadata": {},
   "source": [
    "Q5. Write a program to filter count vowels in the below-given string.\n",
    "string = \"I want to become a data scientist\""
   ]
  },
  {
   "cell_type": "code",
   "execution_count": null,
   "id": "fc2b56ad-a553-4ad9-91b9-2cf87190bc31",
   "metadata": {},
   "outputs": [],
   "source": [
    "#ANSWER\n",
    "string = \"I want to become a data scientist\"\n",
    "vowels = 0\n",
    "for i in string:\n",
    "    if i == \"a\" or i == \"e\" or i == \"i\" or i == \"o\" or i == \"u\" :\n",
    "        vowels = vowels + 1\n",
    "print(\"Numbers of vowels in the string: \", vowels)"
   ]
  }
 ],
 "metadata": {
  "kernelspec": {
   "display_name": "Python 3 (ipykernel)",
   "language": "python",
   "name": "python3"
  },
  "language_info": {
   "codemirror_mode": {
    "name": "ipython",
    "version": 3
   },
   "file_extension": ".py",
   "mimetype": "text/x-python",
   "name": "python",
   "nbconvert_exporter": "python",
   "pygments_lexer": "ipython3",
   "version": "3.10.8"
  }
 },
 "nbformat": 4,
 "nbformat_minor": 5
}
